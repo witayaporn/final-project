{
 "cells": [
  {
   "cell_type": "code",
   "execution_count": 1,
   "metadata": {},
   "outputs": [],
   "source": [
    "from pythainlp.transliterate import pronunciate\n",
    "from pythainlp import thai_consonants"
   ]
  },
  {
   "cell_type": "code",
   "execution_count": 2,
   "metadata": {},
   "outputs": [
    {
     "data": {
      "text/plain": [
       "'พุด-ทะ'"
      ]
     },
     "execution_count": 2,
     "metadata": {},
     "output_type": "execute_result"
    }
   ],
   "source": [
    "pronunciate(\"พุทธ\")"
   ]
  },
  {
   "cell_type": "code",
   "execution_count": 3,
   "metadata": {},
   "outputs": [
    {
     "data": {
      "text/plain": [
       "'บู-ชา'"
      ]
     },
     "execution_count": 3,
     "metadata": {},
     "output_type": "execute_result"
    }
   ],
   "source": [
    "pronunciate(\"บูชา\")"
   ]
  },
  {
   "cell_type": "code",
   "execution_count": 4,
   "metadata": {},
   "outputs": [
    {
     "data": {
      "text/plain": [
       "'อะ-นุก'"
      ]
     },
     "execution_count": 4,
     "metadata": {},
     "output_type": "execute_result"
    }
   ],
   "source": [
    "pronunciate(\"อนุค\")"
   ]
  },
  {
   "cell_type": "code",
   "execution_count": 5,
   "metadata": {},
   "outputs": [],
   "source": [
    "def nighit(w1,w2): # read: https://www.trueplookpanya.com/learning/detail/1180\n",
    "    if not str(w1).endswith('ํ') and len(w1)!=2:\n",
    "        raise NotImplementedError(f\"The function doesn't support {w1}.\")\n",
    "    list_w1 = list(w1)\n",
    "    list_w2 = list(w2)\n",
    "    newword = list()\n",
    "    newword.append(list_w1[0])\n",
    "    newword.append(\"ั\")\n",
    "    consonant_start = [i for i in list_w2 if i in set(thai_consonants)][0]\n",
    "    if consonant_start in [\"ก\",\"ช\",\"ค\",\"ข\",\"ง\"]:\n",
    "        newword.append(\"ง\")\n",
    "    elif consonant_start in [\"จ\",\"ฉ\",\"ช\",\"ฌ\"]:\n",
    "        newword.append(\"ญ\")\n",
    "    elif consonant_start in [\"ฎ\",\"ฐ\",\"ฑ\",\"ณ\"]:\n",
    "        newword.append(\"ณ\")\n",
    "    elif consonant_start in [\"ด\",\"ถ\",\"ท\",\"ธ\",\"น\"]:\n",
    "        newword.append(\"น\")\n",
    "    elif consonant_start in [\"ป\",\"ผ\",\"พ\",\"ภ\"]:\n",
    "        newword.append(\"ม\")\n",
    "    elif consonant_start in [\"ย\",\"ร\",\"ล\",\"ฬ\",\"ว\",\"ศ\",\"ษ\",\"ส\",\"ห\"]:\n",
    "        newword.append(\"ง\")\n",
    "    else:\n",
    "        raise NotImplementedError(f\"The function doesn't support {w1} and {w2}.\")\n",
    "    newword.extend(list_w2)\n",
    "    return ''.join(newword)"
   ]
  },
  {
   "cell_type": "code",
   "execution_count": 6,
   "metadata": {},
   "outputs": [],
   "source": [
    "assert nighit(\"สํ\",\"คีต\")==\"สังคีต\"\n",
    "assert nighit(\"สํ\",\"จร\")==\"สัญจร\"\n",
    "assert nighit(\"สํ\",\"ฐาน\")==\"สัณฐาน\"\n",
    "assert nighit(\"สํ\",\"นิษฐาน\")==\"สันนิษฐาน\"\n",
    "assert nighit(\"สํ\",\"ปทา\")==\"สัมปทา\"\n",
    "assert nighit(\"สํ\",\"โยค\")==\"สังโยค\""
   ]
  },
  {
   "cell_type": "code",
   "execution_count": null,
   "metadata": {},
   "outputs": [],
   "source": []
  }
 ],
 "metadata": {
  "kernelspec": {
   "display_name": "Python 3.8.13 ('base')",
   "language": "python",
   "name": "python3"
  },
  "language_info": {
   "codemirror_mode": {
    "name": "ipython",
    "version": 3
   },
   "file_extension": ".py",
   "mimetype": "text/x-python",
   "name": "python",
   "nbconvert_exporter": "python",
   "pygments_lexer": "ipython3",
   "version": "3.8.13"
  },
  "orig_nbformat": 4,
  "vscode": {
   "interpreter": {
    "hash": "a1d6ff38954a1cdba4cf61ffa51e42f4658fc35985cd256cd89123cae8466a39"
   }
  }
 },
 "nbformat": 4,
 "nbformat_minor": 2
}
