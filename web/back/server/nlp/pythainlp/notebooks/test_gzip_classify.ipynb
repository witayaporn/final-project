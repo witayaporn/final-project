{
 "cells": [
  {
   "cell_type": "code",
   "execution_count": 1,
   "id": "1480d345",
   "metadata": {},
   "outputs": [],
   "source": [
    "import pythainlp.classify.param_free"
   ]
  },
  {
   "cell_type": "code",
   "execution_count": 2,
   "id": "78fca9fa",
   "metadata": {},
   "outputs": [],
   "source": [
    "training_data =  [\n",
    "        (\"รายละเอียดตามนี้เลยค่าา ^^\", \"Neutral\"),\n",
    "        (\"กลัวพวกมึงหาย อดกินบาบิก้อน\", \"Neutral\"),\n",
    "        (\"บริการแย่มากก เป็นหมอได้ไง😤\", \"Negative\"),\n",
    "        (\"ขับรถแย่มาก\", \"Negative\"),\n",
    "        (\"ดีนะครับ\", \"Positive\"),\n",
    "        (\"ลองแล้วรสนี้อร่อย... ชอบๆ\", \"Positive\"),\n",
    "        (\"ฉันรู้สึกโกรธ เวลามือถือแบตหมด\", \"Negative\"),\n",
    "        (\"เธอภูมิใจที่ได้ทำสิ่งดี ๆ และดีใจกับเด็ก ๆ\", \"Positive\"),\n",
    "        (\"นี่เป็นบทความหนึ่ง\", \"Neutral\")\n",
    "]"
   ]
  },
  {
   "cell_type": "code",
   "execution_count": 3,
   "id": "94c1495f",
   "metadata": {},
   "outputs": [],
   "source": [
    "model = pythainlp.classify.param_free.GzipModel(training_data)"
   ]
  },
  {
   "cell_type": "code",
   "execution_count": 4,
   "id": "f4d047db",
   "metadata": {},
   "outputs": [
    {
     "data": {
      "text/plain": [
       "'Positive'"
      ]
     },
     "execution_count": 4,
     "metadata": {},
     "output_type": "execute_result"
    }
   ],
   "source": [
    "model.predict(\"ฉันดีใจ\", k=1)"
   ]
  }
 ],
 "metadata": {
  "kernelspec": {
   "display_name": "Python 3 (ipykernel)",
   "language": "python",
   "name": "python3"
  },
  "language_info": {
   "codemirror_mode": {
    "name": "ipython",
    "version": 3
   },
   "file_extension": ".py",
   "mimetype": "text/x-python",
   "name": "python",
   "nbconvert_exporter": "python",
   "pygments_lexer": "ipython3",
   "version": "3.10.9"
  }
 },
 "nbformat": 4,
 "nbformat_minor": 5
}
